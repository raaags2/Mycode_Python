{
 "cells": [
  {
   "cell_type": "markdown",
   "id": "74be3dd2",
   "metadata": {},
   "source": [
    "Linear Regression <br>\n",
    "=============== <br>\n",
    "Dependant variable y is linearly correlated to independent X's = {x1,x2,x3----} <br>\n",
    "$\\hat{y} = w^TX+b $ Estimated target variable is $\\hat{y} $<br>\n",
    "w is the weight vector (coefficients of independent variables) <br>\n",
    "b is the bias or intercept <br>\n",
    "\n",
    "Error in the prediction is $(\\hat{y}-y) $ <br>\n",
    "\n",
    "Since absolute errors (Predicted - Actual) sum up to zero, we minimize the squared error <br>\n",
    "$ Mean squared error (MSE) = \\frac{1}m\\sum \\limits_{i=1}^m (\\hat{y}-y)^2 $ <br>\n",
    "To solve the above error we need to get the gradient of the function to near 0 <br>\n",
    "$\\nabla_w \\frac{1}m\\sum \\limits_{i=1}^m (\\hat{y}-y)^2 = 0 $ <br>\n",
    "$\\nabla_w ||Xw-y||^2 = 0 $ <br>\n",
    "$\\nabla_w (Xw-y)^T(Xw-y) = 0 $ <br>\n",
    "$\\nabla_w (w^TXXw - 2w^TX^Ty + y^Ty) = 0 $ <br>\n",
    "After applying gradient <br>\n",
    "$2X^TXw - 2X^Ty = 0  $ <br>\n",
    "$w=(X^TX)^{-1}X^Ty $"
   ]
  },
  {
   "cell_type": "code",
   "execution_count": 2,
   "id": "782ddbd4",
   "metadata": {},
   "outputs": [],
   "source": [
    "import numpy as np\n",
    "import pandas as pd"
   ]
  },
  {
   "cell_type": "code",
   "execution_count": 29,
   "id": "2bdfca35",
   "metadata": {},
   "outputs": [],
   "source": [
    "dt = pd.read_csv(r'F:\\backup\\practice\\machine_learning\\ML_datasets\\Regression\\winequality-white.csv')\n",
    "dt['const'] = 1.0\n",
    "# Let us find residual sugar given density and total sulfur dioxide\n",
    "# y --> Residual Sugar\n",
    "# X --> Density\n",
    "y = np.array(dt['residual sugar'])\n",
    "x = np.array(dt[['const','density']])\n",
    "w = np.dot(np.linalg.inv(np.dot(x.T,x)),(np.dot(x.T,y)))"
   ]
  },
  {
   "cell_type": "code",
   "execution_count": 33,
   "id": "a67a04e0",
   "metadata": {},
   "outputs": [
    {
     "data": {
      "text/plain": [
       "1422.7411471157168"
      ]
     },
     "execution_count": 33,
     "metadata": {},
     "output_type": "execute_result"
    }
   ],
   "source": [
    "w[1]"
   ]
  },
  {
   "cell_type": "markdown",
   "id": "8e8525cc",
   "metadata": {},
   "source": [
    "#### Using Sklearn Linear regression package"
   ]
  },
  {
   "cell_type": "code",
   "execution_count": 31,
   "id": "8c0bc57a",
   "metadata": {},
   "outputs": [
    {
     "data": {
      "text/plain": [
       "LinearRegression()"
      ]
     },
     "execution_count": 31,
     "metadata": {},
     "output_type": "execute_result"
    }
   ],
   "source": [
    "from sklearn.linear_model import LinearRegression\n",
    "lreg = LinearRegression()\n",
    "lreg.fit(np.array(dt['density']).reshape(-1,1),dt['residual sugar'])"
   ]
  },
  {
   "cell_type": "code",
   "execution_count": 32,
   "id": "13994fd8",
   "metadata": {},
   "outputs": [
    {
     "data": {
      "text/plain": [
       "array([1422.74114718])"
      ]
     },
     "execution_count": 32,
     "metadata": {},
     "output_type": "execute_result"
    }
   ],
   "source": [
    "lreg.coef_"
   ]
  },
  {
   "cell_type": "markdown",
   "id": "a31cb711",
   "metadata": {},
   "source": [
    "### Using Gradient descent Approach"
   ]
  },
  {
   "cell_type": "markdown",
   "id": "281b447d",
   "metadata": {},
   "source": [
    "$\\hat{y} = wX+b $ <br>\n",
    "$ Mean squared error (MSE) L = \\frac{1}m\\sum \\limits_{i=1}^m (\\hat{y}-y)^2 $ <br>\n",
    "Differentiate MSE w.r.t unknows w and b <br>\n",
    "$ \\frac{\\partial L}{\\partial w} = \\frac{2}m \\sum (\\hat{y} - y)X $ <br>\n",
    "$ \\frac{\\partial L}{\\partial b} = \\frac{2}m \\sum (\\hat{y} - y) $ <br>\n",
    "l --> learning rate, the coefficients will be updated untill minimum error is found <br>\n",
    "$ w_{new} = w_{old} - l\\frac{\\partial L}{\\partial w} $ <br>\n",
    "$ b_{new} = b_{old} - l\\frac{\\partial L}{\\partial b} $ <br>"
   ]
  },
  {
   "cell_type": "code",
   "execution_count": 241,
   "id": "adbb80a6",
   "metadata": {},
   "outputs": [],
   "source": [
    "# Define the constants\n",
    "l = 0.01\n",
    "tol = 0.001\n",
    "maxiter = 1000\n",
    "m = len(dt)"
   ]
  },
  {
   "cell_type": "code",
   "execution_count": 230,
   "id": "10980f83",
   "metadata": {},
   "outputs": [],
   "source": [
    "def update_func(w,l,m,X,err):\n",
    "    wn=[]\n",
    "    wn.append(w[0] - (l*(2.0/float(m))*sum(err)))\n",
    "    for i in range(1,len(w)):\n",
    "        wn.append(w[i] - (l*(2.0/float(m))*sum(err*X.T[i])))\n",
    "    wn = np.array(wn)\n",
    "    return wn"
   ]
  },
  {
   "cell_type": "code",
   "execution_count": 223,
   "id": "f08d62f5",
   "metadata": {},
   "outputs": [],
   "source": [
    "def err_func(ypred,y,tol,m):\n",
    "    err = (ypred - y)\n",
    "    resid = sum(np.square(ypred - y))\n",
    "    if( resid / m <= tol):\n",
    "        flag=1\n",
    "    else:\n",
    "        flag=0\n",
    "    return err,flag,resid/m"
   ]
  },
  {
   "cell_type": "code",
   "execution_count": 250,
   "id": "5fdd84ed",
   "metadata": {},
   "outputs": [
    {
     "name": "stdout",
     "output_type": "stream",
     "text": [
      "Did not converge\n"
     ]
    }
   ],
   "source": [
    "# Create model from scratch\n",
    "from sklearn.preprocessing import StandardScaler\n",
    "resid = []\n",
    "b = np.ones((len(dt),1))\n",
    "X = np.array(dt[['density','total sulfur dioxide']])\n",
    "sclr = StandardScaler()\n",
    "X = sclr.fit_transform(X)\n",
    "X = np.concatenate((b,X),axis=1)\n",
    "y = np.array(dt['residual sugar'])\n",
    "w = np.zeros(X.shape[1])\n",
    "for i in range(0,maxiter):\n",
    "    ypred = np.matmul(w,X.T)\n",
    "    err,flag,res = err_func(ypred,y,tol,m)\n",
    "    resid.append(res)\n",
    "    if flag == 0:\n",
    "        w = update_func(w,l,m,X,err)\n",
    "    else:\n",
    "        exit()\n",
    "if (i>=maxiter-1):\n",
    "    print(\"Max iterations reached\")"
   ]
  },
  {
   "cell_type": "code",
   "execution_count": 245,
   "id": "52fcec4e",
   "metadata": {},
   "outputs": [
    {
     "data": {
      "text/plain": [
       "Text(0, 0.5, 'Cost')"
      ]
     },
     "execution_count": 245,
     "metadata": {},
     "output_type": "execute_result"
    },
    {
     "data": {
      "image/png": "[encoded data removed]",
      "text/plain": [
       "<Figure size 432x288 with 1 Axes>"
      ]
     },
     "metadata": {
      "needs_background": "light"
     },
     "output_type": "display_data"
    }
   ],
   "source": [
    "import matplotlib.pyplot as plt\n",
    "plt.plot(resid)\n",
    "plt.xlabel('Iterations')\n",
    "plt.ylabel('Cost')"
   ]
  },
  {
   "cell_type": "code",
   "execution_count": 246,
   "id": "88a2e838",
   "metadata": {},
   "outputs": [
    {
     "data": {
      "text/plain": [
       "LinearRegression()"
      ]
     },
     "execution_count": 246,
     "metadata": {},
     "output_type": "execute_result"
    }
   ],
   "source": [
    "X = np.array(dt[['density','total sulfur dioxide']])\n",
    "sclr = StandardScaler()\n",
    "X = sclr.fit_transform(X)\n",
    "lreg = LinearRegression()\n",
    "lreg.fit(X,y)"
   ]
  },
  {
   "cell_type": "code",
   "execution_count": 249,
   "id": "d02ab1e4",
   "metadata": {},
   "outputs": [
    {
     "name": "stdout",
     "output_type": "stream",
     "text": [
      "From gradient descent [ 6.39141485  4.41575428 -0.30382263]\n",
      "From Sklearn 6.391414863209331 [ 4.41594057 -0.30400892]\n"
     ]
    }
   ],
   "source": [
    "print(\"From gradient descent\",w)\n",
    "print(\"From Sklearn\",lreg.intercept_,lreg.coef_)"
   ]
  },
  {
   "cell_type": "markdown",
   "id": "d5699ecf",
   "metadata": {},
   "source": [
    "### Maximum likelihood estimation - Linear Regression <br>\n",
    "$ p(y|x) = N(y|f(x),\\sigma^2) $ <br>\n",
    "$ y=f(x)+\\epsilon $ <br>\n",
    "To find parameters $\\theta$ that fit well <br>\n",
    "$ y=x^T\\theta + \\epsilon $ <br>\n",
    "$ \\epsilon \\approx N(0,\\sigma^2) $ <br>\n",
    "Since each of the elements in set y are conditionally independent <br>\n",
    "$ p(y|x,\\theta) = \\prod \\limits_{n=1}^N N(y_n|{x_n}^T\\theta,\\sigma^2) $ <br>\n",
    "$ -log(p(y|x,\\theta)) = -\\sum \\limits_{n=1}^N log(y_n|{x_n},\\theta) $ Maximize for theta <br>\n",
    "Since likelihood is gaussian, substituting for mean from model and variance in pdf of normal distibution <br>\n",
    "$ likelihood L(\\theta) = -\\frac{1}{2\\sigma^2} \\sum \\limits_{n=1}^N(y_n-{x_n}^T\\theta)^2 $"
   ]
  }
 ],
 "metadata": {
  "kernelspec": {
   "display_name": "Python 3 (ipykernel)",
   "language": "python",
   "name": "python3"
  },
  "language_info": {
   "codemirror_mode": {
    "name": "ipython",
    "version": 3
   },
   "file_extension": ".py",
   "mimetype": "text/x-python",
   "name": "python",
   "nbconvert_exporter": "python",
   "pygments_lexer": "ipython3",
   "version": "3.8.5"
  }
 },
 "nbformat": 4,
 "nbformat_minor": 5
}
