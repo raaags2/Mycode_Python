{
  "nbformat": 4,
  "nbformat_minor": 0,
  "metadata": {
    "colab": {
      "provenance": [],
      "authorship_tag": "ABX9TyNE19AeOKjrrzPJbGKc5R5K",
      "include_colab_link": true
    },
    "kernelspec": {
      "name": "python3",
      "display_name": "Python 3"
    },
    "language_info": {
      "name": "python"
    }
  },
  "cells": [
    {
      "cell_type": "markdown",
      "metadata": {
        "id": "view-in-github",
        "colab_type": "text"
      },
      "source": [
        "<a href=\"https://colab.research.google.com/github/raaags2/Mycode_Python/blob/master/NLP_Classification_traditional_using_tfidf.ipynb\" target=\"_parent\"><img src=\"https://colab.research.google.com/assets/colab-badge.svg\" alt=\"Open In Colab\"/></a>"
      ]
    },
    {
      "cell_type": "code",
      "execution_count": 1,
      "metadata": {
        "id": "1D_FKKGFb7GY"
      },
      "outputs": [],
      "source": [
        "import nltk\n",
        "import pandas as pd\n",
        "from sklearn.feature_extraction.text import TfidfVectorizer"
      ]
    },
    {
      "cell_type": "code",
      "source": [
        "train = pd.read_csv('train.csv')"
      ],
      "metadata": {
        "id": "JZPJaTNDdSLC"
      },
      "execution_count": 2,
      "outputs": []
    },
    {
      "cell_type": "code",
      "source": [
        "tfidf = TfidfVectorizer(min_df=2,max_df=0.5,ngram_range=(1,1))\n",
        "features = tfidf.fit_transform(train['review'])"
      ],
      "metadata": {
        "id": "DqWm9ywBfbpv"
      },
      "execution_count": 3,
      "outputs": []
    },
    {
      "cell_type": "code",
      "source": [
        "df = pd.DataFrame(features.todense(),columns=tfidf.get_feature_names())"
      ],
      "metadata": {
        "colab": {
          "base_uri": "https://localhost:8080/"
        },
        "id": "G00IR1C_f1hG",
        "outputId": "716a4784-d6d3-4eda-a86e-894dae997747"
      },
      "execution_count": 4,
      "outputs": [
        {
          "output_type": "stream",
          "name": "stderr",
          "text": [
            "/usr/local/lib/python3.7/dist-packages/sklearn/utils/deprecation.py:87: FutureWarning: Function get_feature_names is deprecated; get_feature_names is deprecated in 1.0 and will be removed in 1.2. Please use get_feature_names_out instead.\n",
            "  warnings.warn(msg, category=FutureWarning)\n"
          ]
        }
      ]
    },
    {
      "cell_type": "code",
      "source": [
        "from sklearn.linear_model import LogisticRegression\n",
        "logreg = LogisticRegression()\n",
        "logreg.fit(df,train['label'])"
      ],
      "metadata": {
        "colab": {
          "base_uri": "https://localhost:8080/"
        },
        "id": "KfcaLvJ-gPWv",
        "outputId": "100aa58a-558b-4ea1-b825-080a7ecc2384"
      },
      "execution_count": 5,
      "outputs": [
        {
          "output_type": "execute_result",
          "data": {
            "text/plain": [
              "LogisticRegression()"
            ]
          },
          "metadata": {},
          "execution_count": 5
        }
      ]
    },
    {
      "cell_type": "code",
      "source": [
        "pred = logreg.predict(df)"
      ],
      "metadata": {
        "id": "LJjj3R0Igq89"
      },
      "execution_count": 6,
      "outputs": []
    },
    {
      "cell_type": "code",
      "source": [
        "from sklearn.metrics import confusion_matrix, precision_recall_fscore_support, classification_report\n",
        "confusion_matrix(y_pred = pred,y_true=train['label'],labels=[0,1])\n",
        "precision_recall_fscore_support(y_pred = pred,y_true=train['label'],labels=[0,1],pos_label=1)"
      ],
      "metadata": {
        "colab": {
          "base_uri": "https://localhost:8080/"
        },
        "id": "HOfsO_L_hTOZ",
        "outputId": "6a8526e8-0aa8-46ca-9cfa-fc3d5cd897da"
      },
      "execution_count": 7,
      "outputs": [
        {
          "output_type": "execute_result",
          "data": {
            "text/plain": [
              "(array([0.94007127, 0.92949731]),\n",
              " array([0.92864, 0.9408 ]),\n",
              " array([0.93432067, 0.9351145 ]),\n",
              " array([12500, 12500]))"
            ]
          },
          "metadata": {},
          "execution_count": 7
        }
      ]
    },
    {
      "cell_type": "code",
      "source": [
        "confusion_matrix(y_pred = pred,y_true=train['label'],labels=[0,1])"
      ],
      "metadata": {
        "colab": {
          "base_uri": "https://localhost:8080/"
        },
        "id": "vmUJT-s0iIQi",
        "outputId": "3454426b-c198-4346-eeba-bb17f273b03a"
      },
      "execution_count": 8,
      "outputs": [
        {
          "output_type": "execute_result",
          "data": {
            "text/plain": [
              "array([[11608,   892],\n",
              "       [  740, 11760]])"
            ]
          },
          "metadata": {},
          "execution_count": 8
        }
      ]
    },
    {
      "cell_type": "code",
      "source": [
        "classification_report(y_pred = pred,y_true=train['label'],labels=[0,1])"
      ],
      "metadata": {
        "colab": {
          "base_uri": "https://localhost:8080/",
          "height": 70
        },
        "id": "O4hojY69iZJT",
        "outputId": "4a2b8f20-61a2-4787-b387-85b2a0fe596a"
      },
      "execution_count": 9,
      "outputs": [
        {
          "output_type": "execute_result",
          "data": {
            "text/plain": [
              "'              precision    recall  f1-score   support\\n\\n           0       0.94      0.93      0.93     12500\\n           1       0.93      0.94      0.94     12500\\n\\n    accuracy                           0.93     25000\\n   macro avg       0.93      0.93      0.93     25000\\nweighted avg       0.93      0.93      0.93     25000\\n'"
            ],
            "application/vnd.google.colaboratory.intrinsic+json": {
              "type": "string"
            }
          },
          "metadata": {},
          "execution_count": 9
        }
      ]
    },
    {
      "cell_type": "code",
      "source": [
        "del(features)\n",
        "del(df)\n",
        "del(train)"
      ],
      "metadata": {
        "id": "cqfXp5VQlNuA"
      },
      "execution_count": 10,
      "outputs": []
    },
    {
      "cell_type": "code",
      "source": [
        "test = pd.read_csv('test.csv')\n",
        "X = tfidf.transform(test['review'])\n",
        "df = pd.DataFrame(X.todense(),columns=tfidf.get_feature_names())\n",
        "pred = logreg.predict(df)\n",
        "confusion_matrix(y_pred = pred,y_true=test['label'],labels=[0,1])"
      ],
      "metadata": {
        "colab": {
          "base_uri": "https://localhost:8080/"
        },
        "id": "xuINTJ0Aj6rk",
        "outputId": "8efa8046-823f-43a4-a9a8-093d509ed61a"
      },
      "execution_count": 11,
      "outputs": [
        {
          "output_type": "stream",
          "name": "stderr",
          "text": [
            "/usr/local/lib/python3.7/dist-packages/sklearn/utils/deprecation.py:87: FutureWarning: Function get_feature_names is deprecated; get_feature_names is deprecated in 1.0 and will be removed in 1.2. Please use get_feature_names_out instead.\n",
            "  warnings.warn(msg, category=FutureWarning)\n"
          ]
        },
        {
          "output_type": "execute_result",
          "data": {
            "text/plain": [
              "array([[11078,  1422],\n",
              "       [ 1441, 11059]])"
            ]
          },
          "metadata": {},
          "execution_count": 11
        }
      ]
    },
    {
      "cell_type": "code",
      "source": [
        "precision_recall_fscore_support(y_pred = pred,y_true=test['label'],labels=[0,1],pos_label=1)"
      ],
      "metadata": {
        "colab": {
          "base_uri": "https://localhost:8080/"
        },
        "id": "MGc3a_LKmPwB",
        "outputId": "7fa5bd7e-9a3d-4e70-b13d-e045e52650f8"
      },
      "execution_count": 12,
      "outputs": [
        {
          "output_type": "execute_result",
          "data": {
            "text/plain": [
              "(array([0.88489496, 0.88606682]),\n",
              " array([0.88624, 0.88472]),\n",
              " array([0.88556697, 0.8853929 ]),\n",
              " array([12500, 12500]))"
            ]
          },
          "metadata": {},
          "execution_count": 12
        }
      ]
    }
  ]
}